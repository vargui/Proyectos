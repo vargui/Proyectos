{
 "cells": [
  {
   "cell_type": "code",
   "execution_count": 9,
   "id": "5781a5a6-c495-458c-b0de-c26744a658fc",
   "metadata": {},
   "outputs": [
    {
     "name": "stdout",
     "output_type": "stream",
     "text": [
      "Selecciona una opción:\n",
      "1.Jugar\n",
      "2.Mostrar resumen partidas\n",
      "3.Mostrar gráficas partidas\n",
      "\n"
     ]
    },
    {
     "name": "stdin",
     "output_type": "stream",
     "text": [
      "Introduce una opción 1\n"
     ]
    },
    {
     "name": "stdout",
     "output_type": "stream",
     "text": [
      " DIFICULTAD\n",
      "    1.Fácil\n",
      "    2.Medio\n",
      "    3.Difícil\n",
      "    \n"
     ]
    },
    {
     "name": "stdin",
     "output_type": "stream",
     "text": [
      "Seleccione una dificultad 2\n",
      "Introduce un numero del 1 al 1000: 1\n"
     ]
    },
    {
     "name": "stdout",
     "output_type": "stream",
     "text": [
      "El numero es MAYOR\n"
     ]
    },
    {
     "name": "stdin",
     "output_type": "stream",
     "text": [
      "Introduce un numero del 1 al 1000: 1\n"
     ]
    },
    {
     "name": "stdout",
     "output_type": "stream",
     "text": [
      "El numero es MAYOR\n"
     ]
    },
    {
     "name": "stdin",
     "output_type": "stream",
     "text": [
      "Introduce un numero del 1 al 1000: 1\n"
     ]
    },
    {
     "name": "stdout",
     "output_type": "stream",
     "text": [
      "El numero es MAYOR\n"
     ]
    },
    {
     "name": "stdin",
     "output_type": "stream",
     "text": [
      "Introduce un numero del 1 al 1000: 1\n"
     ]
    },
    {
     "name": "stdout",
     "output_type": "stream",
     "text": [
      "El numero es MAYOR\n"
     ]
    },
    {
     "name": "stdin",
     "output_type": "stream",
     "text": [
      "Introduce un numero del 1 al 1000: 1\n"
     ]
    },
    {
     "name": "stdout",
     "output_type": "stream",
     "text": [
      "El numero es MAYOR\n"
     ]
    },
    {
     "name": "stdin",
     "output_type": "stream",
     "text": [
      "Introduce un numero del 1 al 1000: 1\n"
     ]
    },
    {
     "name": "stdout",
     "output_type": "stream",
     "text": [
      "El numero es MAYOR\n"
     ]
    },
    {
     "name": "stdin",
     "output_type": "stream",
     "text": [
      "Introduce un numero del 1 al 1000: 1\n"
     ]
    },
    {
     "name": "stdout",
     "output_type": "stream",
     "text": [
      "El numero es MAYOR\n"
     ]
    },
    {
     "name": "stdin",
     "output_type": "stream",
     "text": [
      "Introduce un numero del 1 al 1000: 1\n"
     ]
    },
    {
     "name": "stdout",
     "output_type": "stream",
     "text": [
      "El numero es MAYOR\n"
     ]
    },
    {
     "name": "stdin",
     "output_type": "stream",
     "text": [
      "Introduce un numero del 1 al 1000: 1\n"
     ]
    },
    {
     "name": "stdout",
     "output_type": "stream",
     "text": [
      "El numero es MAYOR\n"
     ]
    },
    {
     "name": "stdin",
     "output_type": "stream",
     "text": [
      "Introduce un numero del 1 al 1000: 1\n"
     ]
    },
    {
     "name": "stdout",
     "output_type": "stream",
     "text": [
      "El numero es MAYOR\n",
      "Lo siento, has superado el numero de intentos\n"
     ]
    }
   ],
   "source": [
    "import random\n",
    "import openpyxl\n",
    "import matplotlib.pyplot as plt\n",
    "\n",
    "#Mostramos el menú inicial.\n",
    "print(\"\"\"Selecciona una opción:\n",
    "1.Jugar\n",
    "2.Mostrar resumen partidas\n",
    "3.Mostrar gráficas partidas\n",
    "\"\"\")\n",
    "#Pedimos y generamos las variables así como el número random para adivinar\n",
    "opc=int(input(\"Introduce una opción\"))\n",
    "numeroAleatorio=random.randint(1,1000)\n",
    "numeroUsuario=0\n",
    "contador=0\n",
    "#Hacemos el mensaje en caso de no seleccionar opción válida\n",
    "if opc<1 or opc>3:\n",
    "    print(\"Opción no válida\")\n",
    "\n",
    "#Menú de dificultades\n",
    "elif opc==1:\n",
    "    print(\"\"\" DIFICULTAD\n",
    "    1.Fácil\n",
    "    2.Medio\n",
    "    3.Difícil\n",
    "    \"\"\")\n",
    "    dificultad=int(input(\"Seleccione una dificultad\"))\n",
    "    \n",
    "    \n",
    "    if dificultad==1:\n",
    "        max_contador=15\n",
    "        #Generamos el bucle en la opción \"facil\"\n",
    "        while (numeroUsuario!=numeroAleatorio and contador<max_contador):\n",
    "            numeroUsuario=int(input(\"Introduce un numero del 1 al 1000:\"))\n",
    "            contador=contador+1\n",
    "            if numeroAleatorio<numeroUsuario:\n",
    "                print(\"El numero es MENOR\")\n",
    "            elif numeroAleatorio>numeroUsuario:\n",
    "                print(\"El numero es MAYOR\")\n",
    "        #En caso de victoria o derrota:\n",
    "        if numeroUsuario==numeroAleatorio:\n",
    "            print(\"¡Acertaste!\")\n",
    "            #Guardamos la partida en estadísticas\n",
    "            docExcel=openpyxl.load_workbook(\"C:\\\\Users\\\\Usuario\\\\practicaPythonBasico\\\\estadisticas_juego.xlsx\")\n",
    "            hoja=docExcel[\"Hoja1\"]\n",
    "            hoja[\"B2\"].value+=1\n",
    "            \n",
    "            docExcel.save(\"C:\\\\Users\\\\Usuario\\\\practicaPythonBasico\\\\estadisticas_juego.xlsx\")\n",
    "        else:\n",
    "            print(\"Lo siento, has superado el numero de intentos\")\n",
    "            #Guardamos la partida en estadísticas\n",
    "            docExcel=openpyxl.load_workbook(\"C:\\\\Users\\\\Usuario\\\\practicaPythonBasico\\\\estadisticas_juego.xlsx\")\n",
    "            hoja=docExcel[\"Hoja1\"]\n",
    "            hoja[\"C2\"].value+=1\n",
    "            \n",
    "            docExcel.save(\"C:\\\\Users\\\\Usuario\\\\practicaPythonBasico\\\\estadisticas_juego.xlsx\")\n",
    "\n",
    "\n",
    "    elif dificultad==2:\n",
    "        \n",
    "        max_contador=10\n",
    "        #Generamos el bucle en la opción \"medio\"\n",
    "        while (numeroUsuario!=numeroAleatorio and contador<max_contador):\n",
    "            numeroUsuario=int(input(\"Introduce un numero del 1 al 1000:\"))\n",
    "            contador=contador+1\n",
    "            if numeroAleatorio<numeroUsuario:\n",
    "                print(\"El numero es MENOR\")\n",
    "            elif numeroAleatorio>numeroUsuario:\n",
    "                print(\"El numero es MAYOR\")\n",
    "        #En caso de victoria o derrota:\n",
    "        if numeroUsuario==numeroAleatorio:\n",
    "            print(\"¡Acertaste!\")\n",
    "            #Guardamos la partida en estadísticas\n",
    "            docExcel=openpyxl.load_workbook(\"C:\\\\Users\\\\Usuario\\\\practicaPythonBasico\\\\estadisticas_juego.xlsx\")\n",
    "            hoja=docExcel[\"Hoja1\"]\n",
    "            hoja[\"B3\"].value+=1\n",
    "            \n",
    "            docExcel.save(\"C:\\\\Users\\\\Usuario\\\\practicaPythonBasico\\\\estadisticas_juego.xlsx\")\n",
    "            \n",
    "        else:\n",
    "            print(\"Lo siento, has superado el numero de intentos\")\n",
    "            #Guardamos la partida en estadísticas\n",
    "            docExcel=openpyxl.load_workbook(\"C:\\\\Users\\\\Usuario\\\\practicaPythonBasico\\\\estadisticas_juego.xlsx\")\n",
    "            hoja=docExcel[\"Hoja1\"]\n",
    "            hoja[\"C3\"].value+=1\n",
    "            \n",
    "            docExcel.save(\"C:\\\\Users\\\\Usuario\\\\practicaPythonBasico\\\\estadisticas_juego.xlsx\")\n",
    "\n",
    "    elif dificultad==3:\n",
    "        \n",
    "        max_contador=5\n",
    "        #Generamos el bucle en la opción \"dificil\"\n",
    "        while (numeroUsuario!=numeroAleatorio and contador<max_contador):\n",
    "            numeroUsuario=int(input(\"Introduce un numero del 1 al 1000:\"))\n",
    "            contador=contador+1\n",
    "            if numeroAleatorio<numeroUsuario:\n",
    "                print(\"El numero es MENOR\")\n",
    "            elif numeroAleatorio>numeroUsuario:\n",
    "                print(\"El numero es MAYOR\")\n",
    "        #En caso de victoria o derrota:\n",
    "        if numeroUsuario==numeroAleatorio:\n",
    "            print(\"¡Acertaste!\")\n",
    "            #Guardamos la partida en estadísticas\n",
    "            docExcel=openpyxl.load_workbook(\"C:\\\\Users\\\\Usuario\\\\practicaPythonBasico\\\\estadisticas_juego.xlsx\")\n",
    "            hoja=docExcel[\"Hoja1\"]\n",
    "            hoja[\"B4\"].value+=1\n",
    "            docExcel.save(\"C:\\\\Users\\\\Usuario\\\\practicaPythonBasico\\\\estadisticas_juego.xlsx\")\n",
    "            \n",
    "        else:\n",
    "            print(\"Lo siento, has superado el numero de intentos\")\n",
    "            #Guardamos la partida en estadísticas\n",
    "            docExcel=openpyxl.load_workbook(\"C:\\\\Users\\\\Usuario\\\\practicaPythonBasico\\\\estadisticas_juego.xlsx\")\n",
    "            hoja=docExcel[\"Hoja1\"]\n",
    "            hoja[\"C4\"].value+=1\n",
    "            docExcel.save(\"C:\\\\Users\\\\Usuario\\\\practicaPythonBasico\\\\estadisticas_juego.xlsx\")\n",
    "        \n",
    "\n",
    "    else:\n",
    "        print(\"Opción no válida\")\n",
    "#Opción de resumen de partidas junto a la hoja excel\n",
    "elif opc==2:\n",
    "    print()\n",
    "    docExcel=openpyxl.load_workbook(\"C:\\\\Users\\\\Usuario\\\\practicaPythonBasico\\\\estadisticas_juego.xlsx\")\n",
    "    hoja=docExcel[\"Hoja1\"]\n",
    "    rango=hoja[\"A1:C4\"]\n",
    "    for row in rango:\n",
    "        for celda in row:\n",
    "            print(celda.value,end=\"     \")\n",
    "        print()\n",
    "\n",
    "elif opc==3:\n",
    "    #Gráfico en modo facil\n",
    "    xpoints=[\"Victorias\",\"Derrotas\"]\n",
    "    ypoints=[hoja[\"B2\"].value,hoja[\"C2\"].value]\n",
    "    plt.title(\"Resumen de partidas en fácil\")\n",
    "    plt.bar(xpoints,ypoints)\n",
    "    plt.show()\n",
    "    #Gráfico en modo medio\n",
    "    xpoints=[\"Victorias\",\"Derrotas\"]\n",
    "    ypoints=[hoja[\"B3\"].value,hoja[\"C3\"].value]\n",
    "    plt.title(\"Resumen de partidas en medio\")\n",
    "    plt.bar(xpoints,ypoints)\n",
    "    plt.show()\n",
    "    #Gráfico en modo dificil\n",
    "    xpoints=[\"Victorias\",\"Derrotas\"]\n",
    "    ypoints=[hoja[\"B4\"].value,hoja[\"C4\"].value]\n",
    "    plt.title(\"Resumen de partidas en dificil\")\n",
    "    plt.bar(xpoints,ypoints)\n",
    "    plt.show()\n",
    "    \n",
    "\n",
    "    \n",
    "        \n"
   ]
  },
  {
   "cell_type": "code",
   "execution_count": null,
   "id": "daa8701c-1f47-4ef1-800c-ada998a39489",
   "metadata": {},
   "outputs": [],
   "source": []
  }
 ],
 "metadata": {
  "kernelspec": {
   "display_name": "Python 3 (ipykernel)",
   "language": "python",
   "name": "python3"
  },
  "language_info": {
   "codemirror_mode": {
    "name": "ipython",
    "version": 3
   },
   "file_extension": ".py",
   "mimetype": "text/x-python",
   "name": "python",
   "nbconvert_exporter": "python",
   "pygments_lexer": "ipython3",
   "version": "3.12.4"
  }
 },
 "nbformat": 4,
 "nbformat_minor": 5
}
